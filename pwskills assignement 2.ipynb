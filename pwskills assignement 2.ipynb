{
 "cells": [
  {
   "cell_type": "code",
   "execution_count": 1,
   "id": "7948917a-de3c-403e-aad6-35fad380c352",
   "metadata": {},
   "outputs": [],
   "source": [
    "#Read the answers of given questions."
   ]
  },
  {
   "cell_type": "code",
   "execution_count": 2,
   "id": "0461eb9d-3e2f-4a13-8169-540d69f6ba54",
   "metadata": {},
   "outputs": [
    {
     "name": "stdout",
     "output_type": "stream",
     "text": [
      "Rounak\n"
     ]
    }
   ],
   "source": [
    "#Q1 Discuss string slicing and provide examples.\n",
    "#Ans. String slicing is a technique in which we are extract the substring from a main string.\n",
    "#Example:\n",
    "name=\"Rounak\"\n",
    "print(name[0:7])"
   ]
  },
  {
   "cell_type": "code",
   "execution_count": 3,
   "id": "f646c5e6-e293-459d-ac2a-3a34277b925e",
   "metadata": {},
   "outputs": [],
   "source": [
    "#Q2 Explain the key features of lists in Python\n",
    "#Ans. Key features of list is:-\n",
    "# 1. it is muttable.\n",
    "# 2. it is support duplicate itmes.\n",
    "# 3. it contains diffrent types of items\n",
    "# 4. it is arrange in ordered\n",
    "# 5. it is support indexing"
   ]
  },
  {
   "cell_type": "code",
   "execution_count": 4,
   "id": "a73f664a-2848-42ea-b91b-8f9dd7f9cc22",
   "metadata": {},
   "outputs": [
    {
     "name": "stdout",
     "output_type": "stream",
     "text": [
      "50 60 70\n"
     ]
    }
   ],
   "source": [
    "#Q3 Describe how to access, modify and delete elements in a list with example\n",
    "# Ans. 1. Access:- in python we can acess elements by their index.\n",
    "# Example:-\n",
    "num=[50, 60, 70, 80]\n",
    "f1= num[0]\n",
    "f2= num[1]\n",
    "f3= num[2]\n",
    "print(f1, f2, f3)"
   ]
  },
  {
   "cell_type": "code",
   "execution_count": 5,
   "id": "4c9d8237-e234-45f6-bec5-464844dd2f61",
   "metadata": {},
   "outputs": [
    {
     "name": "stdout",
     "output_type": "stream",
     "text": [
      "[80, 90, 70, 80]\n"
     ]
    }
   ],
   "source": [
    "# Modifying Elements:-\n",
    "# We can modify a list by assign new value in a specific index.\n",
    "# Example:-\n",
    "num=[50, 60, 70, 80]\n",
    "num[0]=80\n",
    "num[1]=90\n",
    "print(num)"
   ]
  },
  {
   "cell_type": "code",
   "execution_count": 6,
   "id": "09497604-c132-4242-b1d6-a36499a31c5b",
   "metadata": {},
   "outputs": [
    {
     "name": "stdout",
     "output_type": "stream",
     "text": [
      "[50, 70]\n"
     ]
    }
   ],
   "source": [
    "# Delete Elements:-\n",
    "# we can delete elements by using remove(), pop(), del functions.\n",
    "# Example:-\n",
    "num=[50, 60, 70, 80]\n",
    "num.remove(60)\n",
    "num.pop()\n",
    "print(num)"
   ]
  },
  {
   "cell_type": "code",
   "execution_count": 7,
   "id": "71ddbab5-fee0-4919-8718-6e145cde0a9f",
   "metadata": {},
   "outputs": [
    {
     "name": "stdout",
     "output_type": "stream",
     "text": [
      "20\n",
      "[10, 25, 30, 40, 50]\n",
      "[10, 25, 30, 40, 50, 60]\n",
      "[10, 30, 40, 50, 60]\n"
     ]
    }
   ],
   "source": [
    "#compare and contrast tupple and list with example.\n",
    "# Ans. Feature\tList\tTuple\n",
    "# Mutability\tMutable\tImmutable\n",
    "# Syntax\t[]\t()\n",
    "# Performance\tSlower\tFaster\n",
    "# Use Cases\tCollections that may change\tCollections that should remain constant\n",
    "# Methods\tMany built-in methods\tFewer built-in methods\n",
    "# Example of lis:-\n",
    "# Creating a list\n",
    "my_list = [10, 20, 30, 40, 50]\n",
    "\n",
    "# Accessing elements\n",
    "print(my_list[1])  # Output: 20\n",
    "\n",
    "# Modifying elements\n",
    "my_list[1] = 25\n",
    "print(my_list)  # Output: [10, 25, 30, 40, 50]\n",
    "\n",
    "# Adding elements\n",
    "my_list.append(60)\n",
    "print(my_list)  # Output: [10, 25, 30, 40, 50, 60]\n",
    "\n",
    "# Removing elements\n",
    "my_list.remove(25)\n",
    "print(my_list)  # Output: [10, 30, 40, 50, 60]\n"
   ]
  },
  {
   "cell_type": "code",
   "execution_count": 8,
   "id": "8cc555f1-39b6-4e54-8ded-4ed537e3442d",
   "metadata": {},
   "outputs": [
    {
     "name": "stdout",
     "output_type": "stream",
     "text": [
      "20\n",
      "'tuple' object does not support item assignment\n",
      "(10, 20, 30, 40, 50, 60)\n",
      "10 20 30 40 50\n"
     ]
    }
   ],
   "source": [
    "# Example of tupple:-\n",
    "# Creating a tuple\n",
    "my_tuple = (10, 20, 30, 40, 50)\n",
    "\n",
    "# Accessing elements\n",
    "print(my_tuple[1])  # Output: 20\n",
    "\n",
    "# Attempting to modify elements (this will raise an error)\n",
    "try:\n",
    "    my_tuple[1] = 25\n",
    "except TypeError as e:\n",
    "    print(e)  # Output: 'tuple' object does not support item assignment\n",
    "\n",
    "# Tuples do not have methods like append() or remove()\n",
    "# We can, however, concatenate tuples to create a new one\n",
    "new_tuple = my_tuple + (60,)\n",
    "print(new_tuple)  # Output: (10, 20, 30, 40, 50, 60)\n",
    "\n",
    "# We can also use tuple unpacking\n",
    "a, b, c, d, e = my_tuple[:5]\n",
    "print(a, b, c, d, e)  # Output: 10 20 30 40 50\n"
   ]
  },
  {
   "cell_type": "code",
   "execution_count": 4,
   "id": "189f3e4a",
   "metadata": {},
   "outputs": [
    {
     "data": {
      "text/plain": [
       "{1, 2, 3, 4}"
      ]
     },
     "execution_count": 4,
     "metadata": {},
     "output_type": "execute_result"
    }
   ],
   "source": [
    "#Q5 Describe key features of sets and provide example with their uses\n",
    "# Ans. 1. Unordered:- Set do not follow any particular ordered of elements \n",
    "\n",
    "# Example: {3, 1, 2} is considered the same as {1, 2, 3}.\n",
    "# 2. unique elements:- sets do not follow duplicate elements\n",
    "\n",
    "# Example: {1, 2, 2, 3} will be stored as {1, 2, 3}.\n",
    "# 3. Mutable: Elements can be added or removed from a set.\n",
    "\n",
    "# Example: set.add(4) will add 4 to the set, and set.remove(2) will remove 2.\n",
    "# Union: Combines all elements from two sets.\n",
    "\n",
    "# Example: {1, 2, 3} | {3, 4, 5} results in {1, 2, 3, 4, 5}.\n",
    "# Intersection: Returns only the elements that are in both sets.\n",
    "\n",
    "# Example: {1, 2, 3} & {3, 4, 5} results in {3}.\n",
    "# Difference: Returns elements in one set but not in the other.\n",
    "\n",
    "# Example: {1, 2, 3} - {3, 4, 5} results in {1, 2}.\n",
    "# Symmetric Difference: Returns elements in either of the sets, but not in both.\n",
    "\n",
    "# Example: {1, 2, 3} ^ {3, 4, 5} results in {1, 2, 4, 5}.\n",
    "\n",
    "# Remove duplicate elements:-\n",
    "s=[1,2,3,3,4]\n",
    "set(s)"
   ]
  },
  {
   "cell_type": "code",
   "execution_count": 6,
   "id": "110d68dc",
   "metadata": {},
   "outputs": [
    {
     "data": {
      "text/plain": [
       "True"
      ]
     },
     "execution_count": 6,
     "metadata": {},
     "output_type": "execute_result"
    }
   ],
   "source": [
    "#Membership Testing\n",
    "s={1,2,3,5}\n",
    "3 in s"
   ]
  },
  {
   "cell_type": "code",
   "execution_count": 7,
   "id": "713e47ea",
   "metadata": {},
   "outputs": [
    {
     "name": "stdout",
     "output_type": "stream",
     "text": [
      "{'Jane', 'Harry', 'John', 'Tom', 'Emma'}\n",
      "{'Tom'}\n",
      "{'John', 'Jane'}\n",
      "{'John', 'Emma', 'Harry', 'Jane'}\n"
     ]
    }
   ],
   "source": [
    "#set operation\n",
    "students_in_class_A = {'John', 'Jane', 'Tom'}\n",
    "students_in_class_B = {'Tom', 'Harry', 'Emma'}\n",
    "\n",
    "all_students = students_in_class_A | students_in_class_B  # Union\n",
    "print(all_students)  # Output: {'John', 'Jane', 'Tom', 'Harry', 'Emma'}\n",
    "\n",
    "common_students = students_in_class_A & students_in_class_B  # Intersection\n",
    "print(common_students)  # Output: {'Tom'}\n",
    "\n",
    "students_only_in_A = students_in_class_A - students_in_class_B  # Difference\n",
    "print(students_only_in_A)  # Output: {'John', 'Jane'}\n",
    "\n",
    "unique_students = students_in_class_A ^ students_in_class_B  # Symmetric Difference\n",
    "print(unique_students)  # Output: {'John', 'Jane', 'Harry', 'Emma'}"
   ]
  },
  {
   "cell_type": "code",
   "execution_count": 11,
   "id": "4d3f771b",
   "metadata": {},
   "outputs": [
    {
     "data": {
      "text/plain": [
       "{4, 5, 6, 7, 9}"
      ]
     },
     "execution_count": 11,
     "metadata": {},
     "output_type": "execute_result"
    }
   ],
   "source": [
    "#Unique collection\n",
    "num={5,6,4,7}\n",
    "num.add(9)\n",
    "num"
   ]
  },
  {
   "cell_type": "code",
   "execution_count": 7,
   "id": "ea4048ac",
   "metadata": {},
   "outputs": [
    {
     "data": {
      "text/plain": [
       "{33, 44, 55, 77, 88, 99}"
      ]
     },
     "execution_count": 7,
     "metadata": {},
     "output_type": "execute_result"
    }
   ],
   "source": [
    "#Data Validation\n",
    "num={77,88,99,33,44}\n",
    "num1= 55\n",
    "if num1 in num:\n",
    "    print(\"Number already exists\")\n",
    "else:\n",
    "    num.add(num1)\n",
    "num"
   ]
  },
  {
   "cell_type": "code",
   "execution_count": null,
   "id": "902e4754",
   "metadata": {},
   "outputs": [],
   "source": [
    "#Discuss the use cases of tuples and sets in Python programming.\n",
    "# Ans. Tuple classification:-\n",
    "# 1. it is ordered collection of elements that can be various data type\n",
    "# 2. it is immutable \n",
    "# 3. it is support indexing\n",
    "# 4. it is allow duplicate elements"
   ]
  },
  {
   "cell_type": "code",
   "execution_count": 10,
   "id": "722c83b9",
   "metadata": {},
   "outputs": [
    {
     "ename": "TypeError",
     "evalue": "'tuple' object does not support item assignment",
     "output_type": "error",
     "traceback": [
      "\u001b[1;31m---------------------------------------------------------------------------\u001b[0m",
      "\u001b[1;31mTypeError\u001b[0m                                 Traceback (most recent call last)",
      "Cell \u001b[1;32mIn[10], line 2\u001b[0m\n\u001b[0;32m      1\u001b[0m num\u001b[38;5;241m=\u001b[39m(\u001b[38;5;241m1\u001b[39m,\u001b[38;5;241m2\u001b[39m,\u001b[38;5;241m3\u001b[39m,\u001b[38;5;241m4\u001b[39m,\u001b[38;5;241m5\u001b[39m,\u001b[38;5;241m6\u001b[39m)\n\u001b[1;32m----> 2\u001b[0m \u001b[43mnum\u001b[49m\u001b[43m[\u001b[49m\u001b[38;5;241;43m2\u001b[39;49m\u001b[43m]\u001b[49m\u001b[38;5;241m=\u001b[39m\u001b[38;5;241m9\u001b[39m\n\u001b[0;32m      3\u001b[0m num\n",
      "\u001b[1;31mTypeError\u001b[0m: 'tuple' object does not support item assignment"
     ]
    }
   ],
   "source": [
    "# Example of immutability\n",
    "num=(1,2,3,4,5,6)\n",
    "num[2]=9\n",
    "num"
   ]
  },
  {
   "cell_type": "code",
   "execution_count": 12,
   "id": "64d064d7",
   "metadata": {},
   "outputs": [
    {
     "data": {
      "text/plain": [
       "4"
      ]
     },
     "execution_count": 12,
     "metadata": {},
     "output_type": "execute_result"
    }
   ],
   "source": [
    "#Indexing of tuple\n",
    "num=(1,2,3,4,5,6)\n",
    "num[3]"
   ]
  },
  {
   "cell_type": "code",
   "execution_count": null,
   "id": "2462cf1d",
   "metadata": {},
   "outputs": [],
   "source": [
    "# sets classification:-\n",
    "# 1. it is unordered collection of elements\n",
    "# 2. it is support indexing\n",
    "# 3. it is Mutable \n",
    "# 4. it is not allow duplicate elements\n",
    "# 5. we are perform union, intersection, difference operation in sets"
   ]
  },
  {
   "cell_type": "code",
   "execution_count": 14,
   "id": "3fda07d5",
   "metadata": {},
   "outputs": [
    {
     "data": {
      "text/plain": [
       "{1, 2, 3}"
      ]
     },
     "execution_count": 14,
     "metadata": {},
     "output_type": "execute_result"
    }
   ],
   "source": [
    "s=set()\n",
    "s.add(1)\n",
    "s.add(2)\n",
    "s.add(3)\n",
    "s"
   ]
  },
  {
   "cell_type": "code",
   "execution_count": 15,
   "id": "7fd9f1ab",
   "metadata": {},
   "outputs": [
    {
     "data": {
      "text/plain": [
       "{8}"
      ]
     },
     "execution_count": 15,
     "metadata": {},
     "output_type": "execute_result"
    }
   ],
   "source": [
    "s1={1,2,3,6,8}\n",
    "s2={10,20,30,8}\n",
    "s1.intersection(s2)"
   ]
  },
  {
   "cell_type": "code",
   "execution_count": 16,
   "id": "3277ce62",
   "metadata": {},
   "outputs": [
    {
     "data": {
      "text/plain": [
       "{1, 2, 3, 6, 8, 10, 20, 30}"
      ]
     },
     "execution_count": 16,
     "metadata": {},
     "output_type": "execute_result"
    }
   ],
   "source": [
    "s1={1,2,3,6,8}\n",
    "s2={10,20,30,8}\n",
    "s1.union(s2)"
   ]
  },
  {
   "cell_type": "code",
   "execution_count": 18,
   "id": "b40d60ba",
   "metadata": {},
   "outputs": [
    {
     "data": {
      "text/plain": [
       "{10, 20, 30}"
      ]
     },
     "execution_count": 18,
     "metadata": {},
     "output_type": "execute_result"
    }
   ],
   "source": [
    "s1={1,2,3,6,8}\n",
    "s2={10,20,30,8}\n",
    "s2.difference(s1)"
   ]
  },
  {
   "cell_type": "code",
   "execution_count": null,
   "id": "8e608a21",
   "metadata": {},
   "outputs": [],
   "source": [
    "# Describe how to add, modify, and delete items in a dictionary with examples\n",
    "# Ans. Dictionary Classification:-\n",
    "# 1.Dictionaries are key-value pairs that allow you to store and retrieve data based on a unique key.\n",
    "# 2.in dictionary keys are immutable.\n",
    "# 3.Dictionaries are useful for storing data that needs to be accessed quickly and efficiently.\n",
    "# 4.we can use add, modify, delete operation in dictionary.\n"
   ]
  },
  {
   "cell_type": "code",
   "execution_count": 19,
   "id": "7d2c6bb8",
   "metadata": {},
   "outputs": [
    {
     "name": "stdout",
     "output_type": "stream",
     "text": [
      "{'name': 'Alice', 'age': 21, 'grade': 'A'}\n"
     ]
    }
   ],
   "source": [
    "# Adding Items to a Dictionary\n",
    "# To add a new key-value pair to a dictionary, you simply assign a value to a new key.\n",
    "# Creating a dictionary\n",
    "student = {\"name\": \"Alice\", \"age\": 21}\n",
    "\n",
    "# Adding a new key-value pair\n",
    "student[\"grade\"] = \"A\"\n",
    "\n",
    "print(student)"
   ]
  },
  {
   "cell_type": "code",
   "execution_count": 20,
   "id": "6469da25",
   "metadata": {},
   "outputs": [
    {
     "name": "stdout",
     "output_type": "stream",
     "text": [
      "{'name': 'Alice', 'age': 22, 'grade': 'A'}\n"
     ]
    }
   ],
   "source": [
    "# Modifying Items in a Dictionary\n",
    "# To modify an existing item, you assign a new value to an existing key.\n",
    "# Modifying an existing key-value pair\n",
    "student[\"age\"] = 22\n",
    "\n",
    "print(student)"
   ]
  },
  {
   "cell_type": "code",
   "execution_count": 21,
   "id": "5593d57a",
   "metadata": {},
   "outputs": [
    {
     "name": "stdout",
     "output_type": "stream",
     "text": [
      "{'name': 'Alice', 'age': 22}\n"
     ]
    }
   ],
   "source": [
    "# Deleting Items from a Dictionary\n",
    "# You can delete items using the del keyword, the pop() method, or the popitem() method.\n",
    "# Deleting a key-value pair\n",
    "del student[\"grade\"]\n",
    "\n",
    "print(student)"
   ]
  },
  {
   "cell_type": "code",
   "execution_count": 22,
   "id": "19619b48",
   "metadata": {},
   "outputs": [
    {
     "name": "stdout",
     "output_type": "stream",
     "text": [
      "('grade', 'A')\n",
      "{'name': 'Alice', 'age': 22}\n"
     ]
    }
   ],
   "source": [
    "# Example using popitem():\n",
    "# Adding items again for demonstration\n",
    "student[\"age\"] = 22\n",
    "student[\"grade\"] = \"A\"\n",
    "\n",
    "# Using popitem() to remove and return the last key-value pair\n",
    "item = student.popitem()\n",
    "\n",
    "print(item)\n",
    "print(student)"
   ]
  },
  {
   "cell_type": "code",
   "execution_count": 23,
   "id": "e645fca1",
   "metadata": {},
   "outputs": [
    {
     "name": "stdout",
     "output_type": "stream",
     "text": [
      "22\n",
      "{'name': 'Alice'}\n"
     ]
    }
   ],
   "source": [
    "# Example using pop():\n",
    "# Using pop() to remove a key-value pair and get the value\n",
    "age = student.pop(\"age\")\n",
    "\n",
    "print(age)\n",
    "print(student)"
   ]
  }
 ],
 "metadata": {
  "kernelspec": {
   "display_name": "Python 3 (ipykernel)",
   "language": "python",
   "name": "python3"
  },
  "language_info": {
   "codemirror_mode": {
    "name": "ipython",
    "version": 3
   },
   "file_extension": ".py",
   "mimetype": "text/x-python",
   "name": "python",
   "nbconvert_exporter": "python",
   "pygments_lexer": "ipython3",
   "version": "3.12.2"
  }
 },
 "nbformat": 4,
 "nbformat_minor": 5
}
